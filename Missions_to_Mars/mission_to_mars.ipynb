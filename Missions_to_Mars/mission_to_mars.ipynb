{
 "cells": [
  {
   "cell_type": "code",
   "execution_count": 1,
   "metadata": {},
   "outputs": [],
   "source": [
    "from splinter import Browser\n",
    "from bs4 import BeautifulSoup\n",
    "from selenium import webdriver\n",
    "import time\n",
    "import pandas as pd\n",
    "from pprint import pprint"
   ]
  },
  {
   "cell_type": "code",
   "execution_count": 2,
   "metadata": {},
   "outputs": [],
   "source": [
    "executable_path = {'executable_path': 'chromedriver.exe'}\n",
    "browser = Browser('chrome', **executable_path, headless=False)"
   ]
  },
  {
   "cell_type": "code",
   "execution_count": 3,
   "metadata": {},
   "outputs": [],
   "source": [
    "url = 'https://mars.nasa.gov/'\n",
    "browser.visit(url)"
   ]
  },
  {
   "cell_type": "code",
   "execution_count": 4,
   "metadata": {
    "scrolled": false
   },
   "outputs": [
    {
     "name": "stdout",
     "output_type": "stream",
     "text": [
      "\n",
      "\n",
      "HiRISE Views NASA's InSight and Curiosity on Mars\n",
      "\n",
      "\n",
      " \n",
      "New images taken from space offer the clearest orbital glimpse yet of InSight as well as a view of Curiosity rolling along.\n",
      "\n",
      "\n",
      "MORE\n",
      "\n",
      "\n",
      "\n"
     ]
    }
   ],
   "source": [
    "html = browser.html\n",
    "soup = BeautifulSoup(html, 'html.parser')\n",
    "\n",
    "# Find Quote Title\n",
    "quote_title = soup.find('h1')\n",
    "# Find Quote Text\n",
    "quote_p = soup.find('div', class_=\"description\")\n",
    "# Strip /n's\n",
    "print(quote_title.text, quote_p.text)\n",
    "news_title = quote_title.text.strip()\n",
    "news_p = quote_p.text.strip().strip('MORE').rstrip()"
   ]
  },
  {
   "cell_type": "code",
   "execution_count": 5,
   "metadata": {},
   "outputs": [
    {
     "data": {
      "text/plain": [
       "\"HiRISE Views NASA's InSight and Curiosity on Mars\""
      ]
     },
     "execution_count": 5,
     "metadata": {},
     "output_type": "execute_result"
    }
   ],
   "source": [
    "news_title"
   ]
  },
  {
   "cell_type": "code",
   "execution_count": 6,
   "metadata": {},
   "outputs": [
    {
     "data": {
      "text/plain": [
       "'New images taken from space offer the clearest orbital glimpse yet of InSight as well as a view of Curiosity rolling along.'"
      ]
     },
     "execution_count": 6,
     "metadata": {},
     "output_type": "execute_result"
    }
   ],
   "source": [
    "news_p"
   ]
  },
  {
   "cell_type": "code",
   "execution_count": 26,
   "metadata": {},
   "outputs": [
    {
     "name": "stdout",
     "output_type": "stream",
     "text": [
      "/spaceimages/images/mediumsize/PIA00069_ip.jpg\n",
      "https://www.jpl.nasa.gov/spaceimages/images/mediumsize/PIA00069_ip.jpg\n"
     ]
    }
   ],
   "source": [
    "url = 'https://www.jpl.nasa.gov/spaceimages/?search=&category=Mars'\n",
    "browser.visit(url)\n",
    "html = browser.html\n",
    "soup = BeautifulSoup(html, 'html.parser')\n",
    "browser.click_link_by_partial_text('FULL IMAGE')\n",
    "#browser.click_link_by_partial_text('more info')\n",
    "time.sleep(2)\n",
    "browser.click_link_by_partial_text('more info')\n",
    "time.sleep(2)\n",
    "article = soup.find('article')\n",
    "featured_image = article.find('a')\n",
    "featured_image_path = featured_image['data-fancybox-href']\n",
    "print(featured_image_path)\n",
    "base_url = 'https://www.jpl.nasa.gov'\n",
    "featured_image_url = base_url + featured_image_path\n",
    "print(featured_image_url)\n",
    "#button = soup.find(\"FULL IMAGE\")\n",
    "#print(button)\n",
    "#button.click\n",
    "\n",
    "#link = h3.find('a')\n",
    "#href = link['href']\n",
    "#title = link['title']\n",
    "#a.button.click_link_by_partial_text\n",
    "#featured_image_url = soup.find('img', class_='main_image')\n",
    "\n",
    "#button3 = soup.find('a', class_='main_image', data_link=\"*\")\n",
    "#button3\n",
    "\n",
    "\n",
    "#print(featured_image_url)\n",
    "#print(href)\n",
    "#print(button2)\n",
    "#print(full_image)\n",
    "\n"
   ]
  },
  {
   "cell_type": "code",
   "execution_count": null,
   "metadata": {},
   "outputs": [],
   "source": [
    "#Visit the Mars Weather twitter account here and scrape the latest Mars weather tweet from the page. \n",
    "#Save the tweet text for the weather report as a variable called mars_weather.\n",
    "url = 'https://twitter.com/marswxreport?lang=en'\n",
    "browser.visit(url)\n",
    "html = browser.html\n",
    "soup = BeautifulSoup(html, 'html.parser')\n",
    "time.sleep(2)\n",
    "mars_weather_element = soup.find('div', class_=\"content\")\n",
    "mars_weather = print(mars_weather_element.p.text)"
   ]
  },
  {
   "cell_type": "code",
   "execution_count": null,
   "metadata": {},
   "outputs": [],
   "source": [
    "#Visit the Mars Facts webpage here and use Pandas to scrape the table containing facts about the planet including Diameter, Mass, etc.\n",
    "#Use Pandas to convert the data to a HTML table string.\n",
    "url = 'https://space-facts.com/mars/'\n",
    "tables = pd.read_html(url)\n",
    "tables"
   ]
  },
  {
   "cell_type": "code",
   "execution_count": null,
   "metadata": {},
   "outputs": [],
   "source": [
    "#Mars - Earth Comparison\n",
    "mars_earth_comparison = tables[0]\n",
    "mars_earth_comparison"
   ]
  },
  {
   "cell_type": "code",
   "execution_count": null,
   "metadata": {},
   "outputs": [],
   "source": [
    "#Mars Planet Profile\n",
    "mars_planet_profile = tables[1].rename(columns={0:\"Mars Category\", 1:\"Value\"})\n",
    "mars_planet_profile"
   ]
  },
  {
   "cell_type": "code",
   "execution_count": null,
   "metadata": {},
   "outputs": [],
   "source": [
    "#Visit the USGS Astrogeology site here to obtain high resolution images for each of Mars' hemispheres.\n",
    "url = 'https://astrogeology.usgs.gov/search/results?q=hemisphere+enhanced&k1=target&v1=Mars'\n",
    "browser.visit(url)\n",
    "html = browser.html\n",
    "soup = BeautifulSoup(html, 'html.parser')\n",
    "\n",
    "#h3s = soup.find_all('h3')\n",
    "#titles = print(h3s)\n",
    "#titles\n",
    "\n",
    "\n",
    "#hemispheres = soup.find_all('a', class_=\"itemLink product-item\")\n",
    "#hemispheres\n",
    "mars_hemis = []\n",
    "hemisphere_head = soup.find_all('h3')\n",
    "pprint(hemisphere_head)\n",
    "#pprint(hemisphere1[0])\n",
    "#pprint(hemisphere1[1])\n",
    "#pprint(hemisphere1[2])\n",
    "#pprint(hemisphere1[3])\n",
    "\n",
    "    \n",
    "#hemisphere1_link = hemisphere1['href']\n",
    "#browser.click_link_by_partial_text('Enhanced')\n",
    "#time.sleep(3)\n",
    "#image1 = soup.find_all('a')\n",
    "#pprint(image1)\n",
    "#browser.click_link_by_text('Sample')\n",
    "#time.sleep(3)\n",
    "\n",
    "                       \n",
    "                       \n",
    "hemisphere1 = soup.find_all('a', class_=\"itemLink product-item\")[1]['href']\n",
    "hemisphere2 = soup.find_all('a', class_=\"itemLink product-item\")[3]['href']\n",
    "hemisphere3 = soup.find_all('a', class_=\"itemLink product-item\")[5]['href']\n",
    "hemisphere4 = soup.find_all('a', class_=\"itemLink product-item\")[7]['href']\n",
    "mars4hemis = [hemisphere1, hemisphere2, hemisphere3, hemisphere4]\n",
    "mars4hemis\n",
    "\n",
    "#for title in h3s:\n",
    "#    titles[title] = print(h3s[title].text)\n",
    "#titles\n",
    "#for x in range(len(titles)):\n",
    "#    titles[x].strip('h3')\n",
    "#titles\n",
    "#images = image.find('a', href=True)\n",
    "#images"
   ]
  },
  {
   "cell_type": "code",
   "execution_count": null,
   "metadata": {
    "scrolled": false
   },
   "outputs": [],
   "source": [
    "usgs_url = \"https://astrogeology.usgs.gov\"\n",
    "url_now = []\n",
    "image_url = []\n",
    "titles = []\n",
    "for x in range(len(mars4hemis)):\n",
    "    browser.visit(usgs_url + mars4hemis[x])\n",
    "    browser.click_link_by_text(\"Open\")\n",
    "    time.sleep(2)\n",
    "    sample = browser.find_by_text('Sample')\n",
    "    image = sample['href']\n",
    "    image_url.append(image)\n",
    "    headers = browser.find_by_tag('h2')\n",
    "    full_title = headers.text\n",
    "    title = full_title.strip('Enhanced')\n",
    "    titles.append(title)\n",
    "# I tried so many different things!  Hours and hours until I finally got it!    \n",
    "#    wide_image = wide_image_id.find(class_='wide-image')\n",
    "#    hemilinks = wide_image[0]\n",
    "\n",
    "#    container = soup.find('div', class_='container')\n",
    "#    downloads = container.find(class_='downloads')\n",
    "\n",
    "#    item = container.find('div', class_='item')\n",
    "    #    wide_image_id = soup.find('div', class_='collapsible results')\n",
    "#    wide_image_wrapper = container.find('div', class_='wide-image-wrapper ')\n",
    "#    wide_image_class = wide_image_wrapper.find('img')\n",
    "#    hemilinks = wide_image_class['src']\n",
    "    \n",
    "#    hemilinks = soup.find(\"li\")\n",
    "#    hemilinks = soup.find_all('img', class_=\"wide-image\")\n",
    "#    hemilinks = soup.find('ul', 'img', class_=\"wide-image\")\n",
    "    print(title, image)\n",
    "print(titles, image_url)    \n"
   ]
  },
  {
   "cell_type": "code",
   "execution_count": null,
   "metadata": {},
   "outputs": [],
   "source": [
    "hemisphere_image_urls = []\n",
    "for x in range((len(titles))):\n",
    "    one_hemisphere = {\"title\": titles[x], \"img_url\":image_url[x]}\n",
    "    hemisphere_image_urls.append(one_hemisphere)\n",
    "hemisphere_image_urls"
   ]
  },
  {
   "cell_type": "code",
   "execution_count": null,
   "metadata": {
    "scrolled": true
   },
   "outputs": [],
   "source": [
    "titles\n",
    "titles_dict = {}\n",
    "for title in len(titles):\n",
    "    titles_dict[title] = {'title' : titles[title]}\n",
    "titles_dict"
   ]
  },
  {
   "cell_type": "code",
   "execution_count": null,
   "metadata": {},
   "outputs": [],
   "source": []
  }
 ],
 "metadata": {
  "kernelspec": {
   "display_name": "Python 3",
   "language": "python",
   "name": "python3"
  },
  "language_info": {
   "codemirror_mode": {
    "name": "ipython",
    "version": 3
   },
   "file_extension": ".py",
   "mimetype": "text/x-python",
   "name": "python",
   "nbconvert_exporter": "python",
   "pygments_lexer": "ipython3",
   "version": "3.7.3"
  }
 },
 "nbformat": 4,
 "nbformat_minor": 2
}
